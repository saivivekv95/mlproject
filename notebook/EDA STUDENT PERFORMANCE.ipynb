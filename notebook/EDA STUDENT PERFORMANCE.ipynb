{
 "cells": [
  {
   "cell_type": "code",
   "execution_count": null,
   "id": "56f4f00e-2e0f-4edc-974c-2c3a6397f248",
   "metadata": {},
   "outputs": [
    {
     "ename": "",
     "evalue": "",
     "output_type": "error",
     "traceback": [
      "\u001b[1;31mRunning cells with 'd:\\Projects\\Machine Learning\\mlproject\\venv\\python.exe' requires the ipykernel package.\n",
      "\u001b[1;31mRun the following command to install 'ipykernel' into the Python environment. \n",
      "\u001b[1;31mCommand: 'conda install -p d:\\Projects\\Machine Learning\\mlproject\\venv ipykernel --update-deps --force-reinstall'"
     ]
    }
   ],
   "source": [
    "\n",
    "import pandas as pd\n",
    "import numpy as np\n",
    "import seaborn as sns\n",
    "import matplotlib.pyplot as plt\n",
    "%matplotlib inline\n",
    "import warnings\n",
    "warnings.filterwarnings('ignore')"
   ]
  },
  {
   "cell_type": "code",
   "execution_count": null,
   "metadata": {},
   "outputs": [
    {
     "ename": "",
     "evalue": "",
     "output_type": "error",
     "traceback": [
      "\u001b[1;31mRunning cells with 'd:\\Projects\\Machine Learning\\mlproject\\venv\\python.exe' requires the ipykernel package.\n",
      "\u001b[1;31mRun the following command to install 'ipykernel' into the Python environment. \n",
      "\u001b[1;31mCommand: 'conda install -p d:\\Projects\\Machine Learning\\mlproject\\venv ipykernel --update-deps --force-reinstall'"
     ]
    }
   ],
   "source": [
    "import sys"
   ]
  },
  {
   "cell_type": "code",
   "execution_count": null,
   "id": "2b6ddbe0-42c7-47c1-823e-564df1d21e15",
   "metadata": {},
   "outputs": [
    {
     "ename": "",
     "evalue": "",
     "output_type": "error",
     "traceback": [
      "\u001b[1;31mRunning cells with 'd:\\Projects\\Machine Learning\\mlproject\\venv\\python.exe' requires the ipykernel package.\n",
      "\u001b[1;31mRun the following command to install 'ipykernel' into the Python environment. \n",
      "\u001b[1;31mCommand: 'conda install -p d:\\Projects\\Machine Learning\\mlproject\\venv ipykernel --update-deps --force-reinstall'"
     ]
    }
   ],
   "source": [
    "df = pd.read_csv('stud.csv')"
   ]
  },
  {
   "cell_type": "code",
   "execution_count": null,
   "id": "12a3dd56-7cdc-4f06-acdf-736213b4762f",
   "metadata": {},
   "outputs": [
    {
     "ename": "",
     "evalue": "",
     "output_type": "error",
     "traceback": [
      "\u001b[1;31mRunning cells with 'd:\\Projects\\Machine Learning\\mlproject\\venv\\python.exe' requires the ipykernel package.\n",
      "\u001b[1;31mRun the following command to install 'ipykernel' into the Python environment. \n",
      "\u001b[1;31mCommand: 'conda install -p d:\\Projects\\Machine Learning\\mlproject\\venv ipykernel --update-deps --force-reinstall'"
     ]
    }
   ],
   "source": [
    "df.head()"
   ]
  },
  {
   "cell_type": "markdown",
   "id": "2a19b219-09b8-459b-a711-deff45326248",
   "metadata": {},
   "source": [
    "#Checking missing values"
   ]
  },
  {
   "cell_type": "code",
   "execution_count": null,
   "id": "3069a88c-3741-4e61-8593-0ba4a1bad6d2",
   "metadata": {},
   "outputs": [],
   "source": [
    "df.isna().sum()"
   ]
  },
  {
   "cell_type": "markdown",
   "id": "34b6224b-fe48-4780-99bd-a87d15cf7916",
   "metadata": {},
   "source": [
    "There is no missing values in dataset"
   ]
  },
  {
   "cell_type": "code",
   "execution_count": null,
   "id": "cb120ea2-1a77-449e-a7ee-872313a0231e",
   "metadata": {},
   "outputs": [],
   "source": [
    "#Now checking the duplicates\n",
    "df.duplicated().sum()"
   ]
  },
  {
   "cell_type": "markdown",
   "id": "686361da-5904-476c-b650-fecda59299ed",
   "metadata": {},
   "source": [
    "There are no duplicated values in the dataset"
   ]
  },
  {
   "cell_type": "code",
   "execution_count": null,
   "id": "58620576-f625-4f79-9b0b-d15aab651e80",
   "metadata": {},
   "outputs": [],
   "source": [
    "##Checking the data types\n",
    "df.info()"
   ]
  },
  {
   "cell_type": "markdown",
   "id": "6ffa4dd1-68ca-4748-8d7b-66f781db4d1e",
   "metadata": {},
   "source": [
    "### Checking the number of unique value of each column"
   ]
  },
  {
   "cell_type": "code",
   "execution_count": null,
   "id": "d16d5c12-811a-4ab4-8f14-70921fd65b33",
   "metadata": {},
   "outputs": [],
   "source": [
    "df.nunique()"
   ]
  },
  {
   "cell_type": "markdown",
   "id": "e405f82c-7ef3-4405-8d21-806fe27a489e",
   "metadata": {},
   "source": [
    "##Check the statistics of dataset"
   ]
  },
  {
   "cell_type": "code",
   "execution_count": null,
   "id": "7f3f3230-fbeb-4195-bd89-c5d87cd52b92",
   "metadata": {},
   "outputs": [],
   "source": [
    "df.describe()"
   ]
  },
  {
   "cell_type": "markdown",
   "id": "ccecab63-0628-4cfe-bf0f-fec8af90ad89",
   "metadata": {},
   "source": [
    "define the numerical and categorical columns"
   ]
  },
  {
   "cell_type": "code",
   "execution_count": null,
   "id": "fe6e8bc9-7d87-4b84-bcdb-10b739792780",
   "metadata": {},
   "outputs": [],
   "source": [
    "numeric_features = [feature for feature in df.columns if df[feature].dtype != 'O']\n",
    "categorical_features = [feature for feature in df.columns if df[feature].dtype == 'O']\n",
    "\n",
    "print('Numeric features :',numeric_features)\n",
    "print('Categorical features :',categorical_features)"
   ]
  },
  {
   "cell_type": "markdown",
   "id": "7e04031a-7b32-4351-ac1e-94605340575a",
   "metadata": {},
   "source": [
    "##Adding columns for total score and average"
   ]
  },
  {
   "cell_type": "code",
   "execution_count": null,
   "id": "a0ec9504-47cd-4b89-985a-ee5788bc46b5",
   "metadata": {},
   "outputs": [],
   "source": [
    "df.head(5)"
   ]
  },
  {
   "cell_type": "code",
   "execution_count": null,
   "id": "69a72350-bca0-497f-8523-fbd21097aeeb",
   "metadata": {},
   "outputs": [],
   "source": [
    "df['total score'] = df['math_score']+df['reading_score']+df['writing_score']\n",
    "df['average'] = df['total score']/3\n"
   ]
  },
  {
   "cell_type": "code",
   "execution_count": null,
   "id": "d6073591-8be5-4dcc-8a4e-187ad73c3eab",
   "metadata": {},
   "outputs": [],
   "source": [
    "df.head()"
   ]
  },
  {
   "cell_type": "markdown",
   "id": "b31c615e-0ca5-4081-9dac-519b53cf38fe",
   "metadata": {},
   "source": [
    "We can do more visulaisation with all the columns "
   ]
  },
  {
   "cell_type": "code",
   "execution_count": null,
   "id": "13b5c01c-4692-45b5-8000-1dbd51eb1090",
   "metadata": {},
   "outputs": [],
   "source": []
  },
  {
   "cell_type": "code",
   "execution_count": null,
   "id": "75bc1435-d196-4d27-aca6-cc30c6f7b5a0",
   "metadata": {},
   "outputs": [],
   "source": []
  },
  {
   "cell_type": "code",
   "execution_count": null,
   "id": "510019cc-3740-4c99-9966-076c522cfe1a",
   "metadata": {},
   "outputs": [],
   "source": []
  },
  {
   "cell_type": "code",
   "execution_count": null,
   "id": "9b3e39aa-6280-4018-9f9c-e05e4d49467e",
   "metadata": {},
   "outputs": [],
   "source": []
  },
  {
   "cell_type": "code",
   "execution_count": null,
   "id": "ba996cac-9215-4c12-87f1-5c839ab5f6b8",
   "metadata": {},
   "outputs": [],
   "source": []
  }
 ],
 "metadata": {
  "kernelspec": {
   "display_name": "Python 3 (ipykernel)",
   "language": "python",
   "name": "python3"
  },
  "language_info": {
   "codemirror_mode": {
    "name": "ipython",
    "version": 3
   },
   "file_extension": ".py",
   "mimetype": "text/x-python",
   "name": "python",
   "nbconvert_exporter": "python",
   "pygments_lexer": "ipython3",
   "version": "3.8.0"
  }
 },
 "nbformat": 4,
 "nbformat_minor": 5
}
